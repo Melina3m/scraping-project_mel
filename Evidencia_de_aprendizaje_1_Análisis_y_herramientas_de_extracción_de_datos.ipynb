{
  "nbformat": 4,
  "nbformat_minor": 0,
  "metadata": {
    "colab": {
      "provenance": [],
      "authorship_tag": "ABX9TyMb2LQOIxQa6qzW97x0Buw1",
      "include_colab_link": true
    },
    "kernelspec": {
      "name": "python3",
      "display_name": "Python 3"
    },
    "language_info": {
      "name": "python"
    }
  },
  "cells": [
    {
      "cell_type": "markdown",
      "metadata": {
        "id": "view-in-github",
        "colab_type": "text"
      },
      "source": [
        "<a href=\"https://colab.research.google.com/github/Melina3m/scraping-project_mel/blob/main/Evidencia_de_aprendizaje_1_An%C3%A1lisis_y_herramientas_de_extracci%C3%B3n_de_datos.ipynb\" target=\"_parent\"><img src=\"https://colab.research.google.com/assets/colab-badge.svg\" alt=\"Open In Colab\"/></a>"
      ]
    },
    {
      "cell_type": "code",
      "execution_count": null,
      "metadata": {
        "colab": {
          "base_uri": "https://localhost:8080/"
        },
        "id": "MD-J75XBA85u",
        "outputId": "22190b37-e12c-4a42-997e-b57d249d9a6a"
      },
      "outputs": [
        {
          "output_type": "stream",
          "name": "stdout",
          "text": [
            "Requirement already satisfied: beautifulsoup4 in /usr/local/lib/python3.10/dist-packages (4.12.3)\n",
            "Requirement already satisfied: requests in /usr/local/lib/python3.10/dist-packages (2.32.3)\n",
            "Requirement already satisfied: soupsieve>1.2 in /usr/local/lib/python3.10/dist-packages (from beautifulsoup4) (2.6)\n",
            "Requirement already satisfied: charset-normalizer<4,>=2 in /usr/local/lib/python3.10/dist-packages (from requests) (3.4.0)\n",
            "Requirement already satisfied: idna<4,>=2.5 in /usr/local/lib/python3.10/dist-packages (from requests) (3.10)\n",
            "Requirement already satisfied: urllib3<3,>=1.21.1 in /usr/local/lib/python3.10/dist-packages (from requests) (2.2.3)\n",
            "Requirement already satisfied: certifi>=2017.4.17 in /usr/local/lib/python3.10/dist-packages (from requests) (2024.8.30)\n"
          ]
        }
      ],
      "source": [
        "pip install beautifulsoup4 requests"
      ]
    },
    {
      "cell_type": "code",
      "source": [
        "import requests\n",
        "from bs4 import BeautifulSoup\n",
        "\n",
        "def extraer_precio_mercadolibre(url):\n",
        "  \"\"\"Extrae el precio de un producto de Mercado Libre.\n",
        "\n",
        "  Args:\n",
        "    url: La URL del producto en Mercado Libre.\n",
        "\n",
        "  Returns:\n",
        "    El precio del producto como una cadena de texto.\n",
        "  \"\"\"\n",
        "\n",
        "  response = requests.get(url)\n",
        "  soup = BeautifulSoup(response.content, 'html.parser')\n",
        "\n",
        "  # Encuentra el elemento que contiene el precio (ajusta el selector según la estructura de la página)\n",
        "  # Este selector es un ejemplo, puede variar según la estructura de la página de Mercado Libre\n",
        "  precio_elemento = soup.find('span', {'class': 'andes-money-amount__fraction'})\n",
        "\n",
        "  if precio_elemento:\n",
        "    precio = precio_elemento.text.strip()\n",
        "    return precio\n",
        "  else:\n",
        "    return \"No se encontró el precio\"\n",
        "\n",
        "# URL del producto en Mercado Libre\n",
        "url_producto = \"https://articulo.mercadolibre.com.co/MCO-1350238933-monitor-lg-24-lg-24gn65r-bawp-ultragear-ips-144hz-_JM#polycard_client=search-nordic&position=27&search_layout=stack&type=item&tracking_id=4e7f6e3c-4c7a-48db-9219-6a8190aa9c27\"\n",
        "\n",
        "precio = extraer_precio_mercadolibre(url_producto)\n",
        "print(precio)"
      ],
      "metadata": {
        "colab": {
          "base_uri": "https://localhost:8080/"
        },
        "id": "zrm5c6F0DYs5",
        "outputId": "4eed7bbc-2dd6-4c86-bc28-5053685fd5ac"
      },
      "execution_count": null,
      "outputs": [
        {
          "output_type": "stream",
          "name": "stdout",
          "text": [
            "1.173.000\n"
          ]
        }
      ]
    },
    {
      "cell_type": "code",
      "source": [
        "url_producto = \"https://articulo.mercadolibre.com.co/MCO-1350238933-monitor-lg-24-lg-24gn65r-bawp-ultragear-ips-144hz-_JM#polycard_client=search-nordic&position=27&search_layout=stack&type=item&tracking_id=4e7f6e3c-4c7a-48db-9219-6a8190aa9c27\"\n",
        "\n",
        "response = requests.get(url_producto)\n",
        "soup = BeautifulSoup(response.content, 'html.parser')\n",
        "\n",
        "# Encuentra el elemento meta con el atributo name=\"twitter:title\"\n",
        "titulo_elemento = soup.find('meta', {'name': 'twitter:title'})\n",
        "\n",
        "if titulo_elemento:\n",
        "  titulo = titulo_elemento['content'].strip()\n",
        "  print(titulo)\n",
        "else:\n",
        "  print(\"No se encontró el título\")"
      ],
      "metadata": {
        "colab": {
          "base_uri": "https://localhost:8080/"
        },
        "id": "-9d9CAFeEWUK",
        "outputId": "727c8dd3-d14a-4780-96ea-711ae107bd01"
      },
      "execution_count": null,
      "outputs": [
        {
          "output_type": "stream",
          "name": "stdout",
          "text": [
            "Monitor LG 24  LG 24gn65r-b.awp Ultragear / Ips / 144hz\n"
          ]
        }
      ]
    },
    {
      "cell_type": "code",
      "source": [
        "url_producto = \"https://articulo.mercadolibre.com.co/MCO-1350238933-monitor-lg-24-lg-24gn65r-bawp-ultragear-ips-144hz-_JM#polycard_client=search-nordic&position=27&search_layout=stack&type=item&tracking_id=4e7f6e3c-4c7a-48db-9219-6a8190aa9c27\"\n",
        "\n",
        "# Realiza la solicitud de la página\n",
        "response = requests.get(url_producto)\n",
        "\n",
        "# Fuerza la decodificación correcta\n",
        "content = response.content.decode('utf-8', 'replace')\n",
        "\n",
        "# Usa BeautifulSoup para analizar el contenido\n",
        "soup = BeautifulSoup(content, 'html.parser')\n",
        "\n",
        "# Encuentra el elemento meta con el atributo property=\"og:description\"\n",
        "descripcion_elemento = soup.find('meta', {'property': 'og:description'})\n",
        "\n",
        "if descripcion_elemento:\n",
        "    descripcion = descripcion_elemento['content'].strip()\n",
        "    print(descripcion)\n",
        "else:\n",
        "    print(\"No se encontró la descripción\")\n",
        "\n"
      ],
      "metadata": {
        "colab": {
          "base_uri": "https://localhost:8080/"
        },
        "id": "XeBcLS2KEfJ6",
        "outputId": "6f6a7198-f001-4dff-e4a7-c776face3e91"
      },
      "execution_count": null,
      "outputs": [
        {
          "output_type": "stream",
          "name": "stdout",
          "text": [
            "Especificaiones:PANTALLA:Tamaño (pulgadas): 23,8&quot;Tamaño: (cm) 60.4cmResolución: 1920 x 1080 (FHD)Tipo de pane:l IPSRatio de aspecto: 16:9Panel Multi: BOE ModuleTecnología Retroiluminación: LEDTipo Retroiluminación: EdgeRetroiluminación (Matriz): H1BTamaño de píxel: 0.2745 x 0.2745 mmBrillo (mín.): 240 cd/Brillo (típ.): 300 cd/Gamut de Color (Mín.): sRGB 97% (CIE1931)Gamut de Color (Típ.): sRGB 99% (CIE1931)Profundidad de Color (N de colores): 16.7MColor Bit: 8bitRatio de Contraste: (Mín.) 700:1Ratio de Contraste: (Típ.) 1000:1Ratio de Contraste con DFC: (Dinámico)MegaVelocidad de Respuesta: 1ms (GtG)Tasa de refresco: 144HzÁngulo de Visión: (RC 10) 178  (H) / 178  (V)Tratamiento Superficial: Anti-reflejosCONECTIVIDAD:HDMI Sí (1)HDMI Version 2.0HDMI (Frecuencia V) 48 144HzHDMI (Valor Frecuencia con FreeSync) 48 144Hz (Extended) 60 144Hz (Basic)HDMI (Resolución Máx,) 1920 x 1080 8bit at 144HzDisplayPort SÍ (x1)Versión DisplayPort 1.4DP (frecuencia V) 48 144HzDisplayPort (Resolución Máx.) 1920 x 1080 8bit at 144Hz\n"
          ]
        }
      ]
    }
  ]
}